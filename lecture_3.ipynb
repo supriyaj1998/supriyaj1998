{
  "nbformat": 4,
  "nbformat_minor": 0,
  "metadata": {
    "colab": {
      "name": "lecture_3.ipynb",
      "provenance": [],
      "collapsed_sections": [],
      "authorship_tag": "ABX9TyODEAeWJBVOCQUSXxgY+/wh",
      "include_colab_link": true
    },
    "kernelspec": {
      "name": "python3",
      "display_name": "Python 3"
    },
    "accelerator": "GPU"
  },
  "cells": [
    {
      "cell_type": "markdown",
      "metadata": {
        "id": "view-in-github",
        "colab_type": "text"
      },
      "source": [
        "<a href=\"https://colab.research.google.com/github/supriyaj1998/supriyaj1998/blob/master/lecture_3.ipynb\" target=\"_parent\"><img src=\"https://colab.research.google.com/assets/colab-badge.svg\" alt=\"Open In Colab\"/></a>"
      ]
    },
    {
      "cell_type": "code",
      "metadata": {
        "id": "9Moo28EStf-M",
        "colab_type": "code",
        "outputId": "ea28992d-190a-41e6-d5e5-d593118f366e",
        "colab": {
          "base_uri": "https://localhost:8080/",
          "height": 202
        }
      },
      "source": [
        "!pip uninstall numpy"
      ],
      "execution_count": 0,
      "outputs": [
        {
          "output_type": "stream",
          "text": [
            "Uninstalling numpy-1.16.4:\n",
            "  Would remove:\n",
            "    /usr/bin/f2py\n",
            "    /usr/bin/f2py2.7\n",
            "    /usr/local/bin/f2py\n",
            "    /usr/local/bin/f2py2\n",
            "    /usr/local/bin/f2py2.7\n",
            "    /usr/local/lib/python2.7/dist-packages/numpy-1.16.4.dist-info/*\n",
            "    /usr/local/lib/python2.7/dist-packages/numpy/*\n",
            "Proceed (y/n)? y\n",
            "  Successfully uninstalled numpy-1.16.4\n"
          ],
          "name": "stdout"
        }
      ]
    },
    {
      "cell_type": "code",
      "metadata": {
        "id": "kKrQs3rwzJo7",
        "colab_type": "code",
        "outputId": "3e84ffb5-1f26-4b07-a7f4-7ed48f43ac34",
        "colab": {
          "base_uri": "https://localhost:8080/",
          "height": 34
        }
      },
      "source": [
        "!pip install numpy"
      ],
      "execution_count": 0,
      "outputs": [
        {
          "output_type": "stream",
          "text": [
            "Requirement already satisfied: numpy in /usr/local/lib/python2.7/dist-packages (1.16.6)\n"
          ],
          "name": "stdout"
        }
      ]
    },
    {
      "cell_type": "code",
      "metadata": {
        "id": "HRb_LPn334T2",
        "colab_type": "code",
        "colab": {}
      },
      "source": [
        "#importing numpy \n",
        "\n",
        "import numpy as np\n"
      ],
      "execution_count": 0,
      "outputs": []
    },
    {
      "cell_type": "code",
      "metadata": {
        "id": "NJXKsoPy4iTg",
        "colab_type": "code",
        "outputId": "1a98b9db-d6bb-4055-ebfd-b54ef43365ba",
        "colab": {
          "base_uri": "https://localhost:8080/",
          "height": 34
        }
      },
      "source": [
        "np"
      ],
      "execution_count": 25,
      "outputs": [
        {
          "output_type": "execute_result",
          "data": {
            "text/plain": [
              "<module 'numpy' from '/usr/local/lib/python3.6/dist-packages/numpy/__init__.py'>"
            ]
          },
          "metadata": {
            "tags": []
          },
          "execution_count": 25
        }
      ]
    },
    {
      "cell_type": "code",
      "metadata": {
        "id": "0XpcIxzX4jQ3",
        "colab_type": "code",
        "outputId": "c70f87f8-0229-4ce7-f346-e7a4ebce1a06",
        "colab": {
          "base_uri": "https://localhost:8080/",
          "height": 34
        }
      },
      "source": [
        "list=[1,2,3,4,5]\n",
        "type(list)\n"
      ],
      "execution_count": 0,
      "outputs": [
        {
          "output_type": "execute_result",
          "data": {
            "text/plain": [
              "list"
            ]
          },
          "metadata": {
            "tags": []
          },
          "execution_count": 6
        }
      ]
    },
    {
      "cell_type": "code",
      "metadata": {
        "id": "ORq7ieLW4xlt",
        "colab_type": "code",
        "outputId": "341cf24a-74ce-46d1-82e8-758024547f49",
        "colab": {
          "base_uri": "https://localhost:8080/",
          "height": 34
        }
      },
      "source": [
        "list"
      ],
      "execution_count": 0,
      "outputs": [
        {
          "output_type": "execute_result",
          "data": {
            "text/plain": [
              "[1, 2, 3, 4, 5]"
            ]
          },
          "metadata": {
            "tags": []
          },
          "execution_count": 5
        }
      ]
    },
    {
      "cell_type": "code",
      "metadata": {
        "id": "Rv4ebBHz4zDd",
        "colab_type": "code",
        "colab": {}
      },
      "source": [
        "list=np.array(list)"
      ],
      "execution_count": 0,
      "outputs": []
    },
    {
      "cell_type": "code",
      "metadata": {
        "id": "YYsRfuj46q_M",
        "colab_type": "code",
        "outputId": "f7c03e97-d601-49cc-a532-4bb7f0ebd35b",
        "colab": {
          "base_uri": "https://localhost:8080/",
          "height": 34
        }
      },
      "source": [
        "type(list)"
      ],
      "execution_count": 0,
      "outputs": [
        {
          "output_type": "execute_result",
          "data": {
            "text/plain": [
              "numpy.ndarray"
            ]
          },
          "metadata": {
            "tags": []
          },
          "execution_count": 8
        }
      ]
    },
    {
      "cell_type": "code",
      "metadata": {
        "id": "EoepZ4vF62FO",
        "colab_type": "code",
        "outputId": "5185ed7a-e36f-49dc-cc5c-bdeb729ee2bf",
        "colab": {
          "base_uri": "https://localhost:8080/",
          "height": 34
        }
      },
      "source": [
        "list"
      ],
      "execution_count": 0,
      "outputs": [
        {
          "output_type": "execute_result",
          "data": {
            "text/plain": [
              "array([1, 2, 3, 4, 5])"
            ]
          },
          "metadata": {
            "tags": []
          },
          "execution_count": 9
        }
      ]
    },
    {
      "cell_type": "code",
      "metadata": {
        "id": "ECMRl9pU7BFW",
        "colab_type": "code",
        "outputId": "73b49241-849f-4997-cea5-c383ac1c42af",
        "colab": {
          "base_uri": "https://localhost:8080/",
          "height": 34
        }
      },
      "source": [
        "list[1:3]"
      ],
      "execution_count": 0,
      "outputs": [
        {
          "output_type": "execute_result",
          "data": {
            "text/plain": [
              "array([2, 3])"
            ]
          },
          "metadata": {
            "tags": []
          },
          "execution_count": 10
        }
      ]
    },
    {
      "cell_type": "code",
      "metadata": {
        "id": "6cFqG6vA7HQl",
        "colab_type": "code",
        "outputId": "673ba59a-0b9b-47c1-ac2e-052a7a8523ed",
        "colab": {
          "base_uri": "https://localhost:8080/",
          "height": 34
        }
      },
      "source": [
        "number=np.array([2,4,6,8])\n",
        "number"
      ],
      "execution_count": 0,
      "outputs": [
        {
          "output_type": "execute_result",
          "data": {
            "text/plain": [
              "array([2, 4, 6, 8])"
            ]
          },
          "metadata": {
            "tags": []
          },
          "execution_count": 11
        }
      ]
    },
    {
      "cell_type": "code",
      "metadata": {
        "id": "weZW7XrI7u0o",
        "colab_type": "code",
        "outputId": "b6b36386-2380-4adc-f46d-843420883a44",
        "colab": {
          "base_uri": "https://localhost:8080/",
          "height": 34
        }
      },
      "source": [
        "number **2"
      ],
      "execution_count": 0,
      "outputs": [
        {
          "output_type": "execute_result",
          "data": {
            "text/plain": [
              "array([ 4, 16, 36, 64])"
            ]
          },
          "metadata": {
            "tags": []
          },
          "execution_count": 12
        }
      ]
    },
    {
      "cell_type": "code",
      "metadata": {
        "id": "yWKwkYHO7ywS",
        "colab_type": "code",
        "colab": {}
      },
      "source": [
        ""
      ],
      "execution_count": 0,
      "outputs": []
    },
    {
      "cell_type": "markdown",
      "metadata": {
        "id": "Sua7ecFG77tb",
        "colab_type": "text"
      },
      "source": [
        "1. make a numpy array with random numbers\n",
        "2. multiply it by 10\n",
        "3. divide by 2\n",
        "4. add 5 to the array\n",
        "5. print last value\n"
      ]
    },
    {
      "cell_type": "code",
      "metadata": {
        "id": "RbWi1Wk28Uzy",
        "colab_type": "code",
        "colab": {}
      },
      "source": [
        "num=[1,2,3,4,5]"
      ],
      "execution_count": 0,
      "outputs": []
    },
    {
      "cell_type": "code",
      "metadata": {
        "id": "0ZYXizWp87O1",
        "colab_type": "code",
        "outputId": "308f42c2-01d7-4666-c5e7-12c0f628ba42",
        "colab": {
          "base_uri": "https://localhost:8080/",
          "height": 34
        }
      },
      "source": [
        "num"
      ],
      "execution_count": 0,
      "outputs": [
        {
          "output_type": "execute_result",
          "data": {
            "text/plain": [
              "[1, 2, 3, 4, 5]"
            ]
          },
          "metadata": {
            "tags": []
          },
          "execution_count": 14
        }
      ]
    },
    {
      "cell_type": "code",
      "metadata": {
        "id": "-jwYDP1Z88Ol",
        "colab_type": "code",
        "colab": {}
      },
      "source": [
        "num=np.array(num)"
      ],
      "execution_count": 0,
      "outputs": []
    },
    {
      "cell_type": "code",
      "metadata": {
        "id": "x63_QiIs9gj-",
        "colab_type": "code",
        "outputId": "36d985ab-ccaa-4320-e441-77fdf91aed15",
        "colab": {
          "base_uri": "https://localhost:8080/",
          "height": 34
        }
      },
      "source": [
        "num"
      ],
      "execution_count": 0,
      "outputs": [
        {
          "output_type": "execute_result",
          "data": {
            "text/plain": [
              "array([1, 2, 3, 4, 5])"
            ]
          },
          "metadata": {
            "tags": []
          },
          "execution_count": 16
        }
      ]
    },
    {
      "cell_type": "code",
      "metadata": {
        "id": "KSc8q-d-9ie3",
        "colab_type": "code",
        "outputId": "9749a71d-7552-4745-bebe-f559365c5584",
        "colab": {
          "base_uri": "https://localhost:8080/",
          "height": 34
        }
      },
      "source": [
        "num * 10"
      ],
      "execution_count": 0,
      "outputs": [
        {
          "output_type": "execute_result",
          "data": {
            "text/plain": [
              "array([10, 20, 30, 40, 50])"
            ]
          },
          "metadata": {
            "tags": []
          },
          "execution_count": 17
        }
      ]
    },
    {
      "cell_type": "code",
      "metadata": {
        "id": "sN_bodEg9nJk",
        "colab_type": "code",
        "outputId": "80b7e8be-2575-4b9a-c3b7-2ab69e4406c7",
        "colab": {
          "base_uri": "https://localhost:8080/",
          "height": 34
        }
      },
      "source": [
        "num/2"
      ],
      "execution_count": 0,
      "outputs": [
        {
          "output_type": "execute_result",
          "data": {
            "text/plain": [
              "array([0, 1, 1, 2, 2])"
            ]
          },
          "metadata": {
            "tags": []
          },
          "execution_count": 18
        }
      ]
    },
    {
      "cell_type": "code",
      "metadata": {
        "id": "KI_Rzc3F9pqS",
        "colab_type": "code",
        "outputId": "69d20315-e9c7-42ab-82e7-aa948fdb6780",
        "colab": {
          "base_uri": "https://localhost:8080/",
          "height": 34
        }
      },
      "source": [
        "num + 5"
      ],
      "execution_count": 0,
      "outputs": [
        {
          "output_type": "execute_result",
          "data": {
            "text/plain": [
              "array([ 6,  7,  8,  9, 10])"
            ]
          },
          "metadata": {
            "tags": []
          },
          "execution_count": 19
        }
      ]
    },
    {
      "cell_type": "code",
      "metadata": {
        "id": "gMbCoIiU9van",
        "colab_type": "code",
        "outputId": "7ef85e7f-48ff-4389-c0ab-1f6d6d134171",
        "colab": {
          "base_uri": "https://localhost:8080/",
          "height": 34
        }
      },
      "source": [
        "num[-1]"
      ],
      "execution_count": 0,
      "outputs": [
        {
          "output_type": "execute_result",
          "data": {
            "text/plain": [
              "5"
            ]
          },
          "metadata": {
            "tags": []
          },
          "execution_count": 20
        }
      ]
    },
    {
      "cell_type": "code",
      "metadata": {
        "id": "VgDx0Q8U-BUR",
        "colab_type": "code",
        "colab": {}
      },
      "source": [
        "#print the numbers:\n",
        "x1 = np.arange(1,100)\n"
      ],
      "execution_count": 0,
      "outputs": []
    },
    {
      "cell_type": "code",
      "metadata": {
        "id": "VSlc2PRkBDmH",
        "colab_type": "code",
        "outputId": "bae94c5d-7697-4dca-f817-2d4e7d05fb32",
        "colab": {
          "base_uri": "https://localhost:8080/",
          "height": 118
        }
      },
      "source": [
        "x1"
      ],
      "execution_count": 0,
      "outputs": [
        {
          "output_type": "execute_result",
          "data": {
            "text/plain": [
              "array([ 1,  2,  3,  4,  5,  6,  7,  8,  9, 10, 11, 12, 13, 14, 15, 16, 17,\n",
              "       18, 19, 20, 21, 22, 23, 24, 25, 26, 27, 28, 29, 30, 31, 32, 33, 34,\n",
              "       35, 36, 37, 38, 39, 40, 41, 42, 43, 44, 45, 46, 47, 48, 49, 50, 51,\n",
              "       52, 53, 54, 55, 56, 57, 58, 59, 60, 61, 62, 63, 64, 65, 66, 67, 68,\n",
              "       69, 70, 71, 72, 73, 74, 75, 76, 77, 78, 79, 80, 81, 82, 83, 84, 85,\n",
              "       86, 87, 88, 89, 90, 91, 92, 93, 94, 95, 96, 97, 98, 99])"
            ]
          },
          "metadata": {
            "tags": []
          },
          "execution_count": 22
        }
      ]
    },
    {
      "cell_type": "code",
      "metadata": {
        "id": "eK8Aa8WLBE-7",
        "colab_type": "code",
        "outputId": "8a729e90-ac47-4c59-bd9d-4047624865af",
        "colab": {
          "base_uri": "https://localhost:8080/",
          "height": 101
        }
      },
      "source": [
        "x1/100"
      ],
      "execution_count": 0,
      "outputs": [
        {
          "output_type": "execute_result",
          "data": {
            "text/plain": [
              "array([0, 0, 0, 0, 0, 0, 0, 0, 0, 0, 0, 0, 0, 0, 0, 0, 0, 0, 0, 0, 0, 0,\n",
              "       0, 0, 0, 0, 0, 0, 0, 0, 0, 0, 0, 0, 0, 0, 0, 0, 0, 0, 0, 0, 0, 0,\n",
              "       0, 0, 0, 0, 0, 0, 0, 0, 0, 0, 0, 0, 0, 0, 0, 0, 0, 0, 0, 0, 0, 0,\n",
              "       0, 0, 0, 0, 0, 0, 0, 0, 0, 0, 0, 0, 0, 0, 0, 0, 0, 0, 0, 0, 0, 0,\n",
              "       0, 0, 0, 0, 0, 0, 0, 0, 0, 0, 0])"
            ]
          },
          "metadata": {
            "tags": []
          },
          "execution_count": 23
        }
      ]
    },
    {
      "cell_type": "code",
      "metadata": {
        "id": "lalak1JwBKwW",
        "colab_type": "code",
        "outputId": "93feaf36-0ab1-415c-e391-8e1ca17e728a",
        "colab": {
          "base_uri": "https://localhost:8080/",
          "height": 50
        }
      },
      "source": [
        "x1[1:20]"
      ],
      "execution_count": 0,
      "outputs": [
        {
          "output_type": "execute_result",
          "data": {
            "text/plain": [
              "array([ 2,  3,  4,  5,  6,  7,  8,  9, 10, 11, 12, 13, 14, 15, 16, 17, 18,\n",
              "       19, 20])"
            ]
          },
          "metadata": {
            "tags": []
          },
          "execution_count": 24
        }
      ]
    },
    {
      "cell_type": "code",
      "metadata": {
        "id": "w0MO0llRCpDY",
        "colab_type": "code",
        "outputId": "7cf86256-0bd1-40f9-9954-7db1e8e37aee",
        "colab": {
          "base_uri": "https://localhost:8080/",
          "height": 34
        }
      },
      "source": [
        "x1[1:20:2]"
      ],
      "execution_count": 0,
      "outputs": [
        {
          "output_type": "execute_result",
          "data": {
            "text/plain": [
              "array([ 2,  4,  6,  8, 10, 12, 14, 16, 18, 20])"
            ]
          },
          "metadata": {
            "tags": []
          },
          "execution_count": 28
        }
      ]
    },
    {
      "cell_type": "code",
      "metadata": {
        "id": "HxeSdZd3CxFw",
        "colab_type": "code",
        "outputId": "fb471558-d984-4d84-fef9-844abf22937a",
        "colab": {
          "base_uri": "https://localhost:8080/",
          "height": 67
        }
      },
      "source": [
        "x1[1:100:2]"
      ],
      "execution_count": 0,
      "outputs": [
        {
          "output_type": "execute_result",
          "data": {
            "text/plain": [
              "array([ 2,  4,  6,  8, 10, 12, 14, 16, 18, 20, 22, 24, 26, 28, 30, 32, 34,\n",
              "       36, 38, 40, 42, 44, 46, 48, 50, 52, 54, 56, 58, 60, 62, 64, 66, 68,\n",
              "       70, 72, 74, 76, 78, 80, 82, 84, 86, 88, 90, 92, 94, 96, 98])"
            ]
          },
          "metadata": {
            "tags": []
          },
          "execution_count": 29
        }
      ]
    },
    {
      "cell_type": "code",
      "metadata": {
        "id": "LBBCuMHTDMlg",
        "colab_type": "code",
        "outputId": "d009b37a-ddd4-4bea-fe22-37795e339860",
        "colab": {
          "base_uri": "https://localhost:8080/",
          "height": 34
        }
      },
      "source": [
        "#print the shap of your array\n",
        "x1.shape"
      ],
      "execution_count": 0,
      "outputs": [
        {
          "output_type": "execute_result",
          "data": {
            "text/plain": [
              "(99,)"
            ]
          },
          "metadata": {
            "tags": []
          },
          "execution_count": 30
        }
      ]
    },
    {
      "cell_type": "code",
      "metadata": {
        "id": "Q2AzBrTCGZDh",
        "colab_type": "code",
        "colab": {}
      },
      "source": [
        "#creating a multidimensional array:\n",
        "x2 = np.array([[1,2,3],[4,3,2]])"
      ],
      "execution_count": 0,
      "outputs": []
    },
    {
      "cell_type": "code",
      "metadata": {
        "id": "-5MPK3GYG7-F",
        "colab_type": "code",
        "outputId": "7a6cf55d-d25a-4b79-b210-d94b63cf42a5",
        "colab": {
          "base_uri": "https://localhost:8080/",
          "height": 34
        }
      },
      "source": [
        "x2.shape"
      ],
      "execution_count": 0,
      "outputs": [
        {
          "output_type": "execute_result",
          "data": {
            "text/plain": [
              "(2, 3)"
            ]
          },
          "metadata": {
            "tags": []
          },
          "execution_count": 36
        }
      ]
    },
    {
      "cell_type": "code",
      "metadata": {
        "id": "Q7bYF-5oG-Am",
        "colab_type": "code",
        "colab": {}
      },
      "source": [
        "x3=np.array([[1,2],[1,2],[1,2],[1,2],[1,2]])\n"
      ],
      "execution_count": 0,
      "outputs": []
    },
    {
      "cell_type": "code",
      "metadata": {
        "id": "eGPxobdCHusY",
        "colab_type": "code",
        "outputId": "44ba5ebe-f438-41e8-fcbf-207795e4159c",
        "colab": {
          "base_uri": "https://localhost:8080/",
          "height": 34
        }
      },
      "source": [
        "x3.shape"
      ],
      "execution_count": 0,
      "outputs": [
        {
          "output_type": "execute_result",
          "data": {
            "text/plain": [
              "(5, 2)"
            ]
          },
          "metadata": {
            "tags": []
          },
          "execution_count": 45
        }
      ]
    },
    {
      "cell_type": "code",
      "metadata": {
        "id": "K1hB7s4_Hw1D",
        "colab_type": "code",
        "colab": {}
      },
      "source": [
        "#make a 10 nos and reshape it to 500x20 matrix:\n",
        "x4=np.arange(1,10001)\n",
        "\n"
      ],
      "execution_count": 0,
      "outputs": []
    },
    {
      "cell_type": "code",
      "metadata": {
        "id": "d45lEfI4LCgg",
        "colab_type": "code",
        "outputId": "782a5e5e-96a1-4abd-b08b-778b5b6bfdbb",
        "colab": {
          "base_uri": "https://localhost:8080/",
          "height": 1000
        }
      },
      "source": [
        "x4"
      ],
      "execution_count": 0,
      "outputs": [
        {
          "output_type": "execute_result",
          "data": {
            "text/plain": [
              "array([  1,   2,   3,   4,   5,   6,   7,   8,   9,  10,  11,  12,  13,\n",
              "        14,  15,  16,  17,  18,  19,  20,  21,  22,  23,  24,  25,  26,\n",
              "        27,  28,  29,  30,  31,  32,  33,  34,  35,  36,  37,  38,  39,\n",
              "        40,  41,  42,  43,  44,  45,  46,  47,  48,  49,  50,  51,  52,\n",
              "        53,  54,  55,  56,  57,  58,  59,  60,  61,  62,  63,  64,  65,\n",
              "        66,  67,  68,  69,  70,  71,  72,  73,  74,  75,  76,  77,  78,\n",
              "        79,  80,  81,  82,  83,  84,  85,  86,  87,  88,  89,  90,  91,\n",
              "        92,  93,  94,  95,  96,  97,  98,  99, 100, 101, 102, 103, 104,\n",
              "       105, 106, 107, 108, 109, 110, 111, 112, 113, 114, 115, 116, 117,\n",
              "       118, 119, 120, 121, 122, 123, 124, 125, 126, 127, 128, 129, 130,\n",
              "       131, 132, 133, 134, 135, 136, 137, 138, 139, 140, 141, 142, 143,\n",
              "       144, 145, 146, 147, 148, 149, 150, 151, 152, 153, 154, 155, 156,\n",
              "       157, 158, 159, 160, 161, 162, 163, 164, 165, 166, 167, 168, 169,\n",
              "       170, 171, 172, 173, 174, 175, 176, 177, 178, 179, 180, 181, 182,\n",
              "       183, 184, 185, 186, 187, 188, 189, 190, 191, 192, 193, 194, 195,\n",
              "       196, 197, 198, 199, 200, 201, 202, 203, 204, 205, 206, 207, 208,\n",
              "       209, 210, 211, 212, 213, 214, 215, 216, 217, 218, 219, 220, 221,\n",
              "       222, 223, 224, 225, 226, 227, 228, 229, 230, 231, 232, 233, 234,\n",
              "       235, 236, 237, 238, 239, 240, 241, 242, 243, 244, 245, 246, 247,\n",
              "       248, 249, 250, 251, 252, 253, 254, 255, 256, 257, 258, 259, 260,\n",
              "       261, 262, 263, 264, 265, 266, 267, 268, 269, 270, 271, 272, 273,\n",
              "       274, 275, 276, 277, 278, 279, 280, 281, 282, 283, 284, 285, 286,\n",
              "       287, 288, 289, 290, 291, 292, 293, 294, 295, 296, 297, 298, 299,\n",
              "       300, 301, 302, 303, 304, 305, 306, 307, 308, 309, 310, 311, 312,\n",
              "       313, 314, 315, 316, 317, 318, 319, 320, 321, 322, 323, 324, 325,\n",
              "       326, 327, 328, 329, 330, 331, 332, 333, 334, 335, 336, 337, 338,\n",
              "       339, 340, 341, 342, 343, 344, 345, 346, 347, 348, 349, 350, 351,\n",
              "       352, 353, 354, 355, 356, 357, 358, 359, 360, 361, 362, 363, 364,\n",
              "       365, 366, 367, 368, 369, 370, 371, 372, 373, 374, 375, 376, 377,\n",
              "       378, 379, 380, 381, 382, 383, 384, 385, 386, 387, 388, 389, 390,\n",
              "       391, 392, 393, 394, 395, 396, 397, 398, 399, 400, 401, 402, 403,\n",
              "       404, 405, 406, 407, 408, 409, 410, 411, 412, 413, 414, 415, 416,\n",
              "       417, 418, 419, 420, 421, 422, 423, 424, 425, 426, 427, 428, 429,\n",
              "       430, 431, 432, 433, 434, 435, 436, 437, 438, 439, 440, 441, 442,\n",
              "       443, 444, 445, 446, 447, 448, 449, 450, 451, 452, 453, 454, 455,\n",
              "       456, 457, 458, 459, 460, 461, 462, 463, 464, 465, 466, 467, 468,\n",
              "       469, 470, 471, 472, 473, 474, 475, 476, 477, 478, 479, 480, 481,\n",
              "       482, 483, 484, 485, 486, 487, 488, 489, 490, 491, 492, 493, 494,\n",
              "       495, 496, 497, 498, 499, 500, 501, 502, 503, 504, 505, 506, 507,\n",
              "       508, 509, 510, 511, 512, 513, 514, 515, 516, 517, 518, 519, 520,\n",
              "       521, 522, 523, 524, 525, 526, 527, 528, 529, 530, 531, 532, 533,\n",
              "       534, 535, 536, 537, 538, 539, 540, 541, 542, 543, 544, 545, 546,\n",
              "       547, 548, 549, 550, 551, 552, 553, 554, 555, 556, 557, 558, 559,\n",
              "       560, 561, 562, 563, 564, 565, 566, 567, 568, 569, 570, 571, 572,\n",
              "       573, 574, 575, 576, 577, 578, 579, 580, 581, 582, 583, 584, 585,\n",
              "       586, 587, 588, 589, 590, 591, 592, 593, 594, 595, 596, 597, 598,\n",
              "       599, 600, 601, 602, 603, 604, 605, 606, 607, 608, 609, 610, 611,\n",
              "       612, 613, 614, 615, 616, 617, 618, 619, 620, 621, 622, 623, 624,\n",
              "       625, 626, 627, 628, 629, 630, 631, 632, 633, 634, 635, 636, 637,\n",
              "       638, 639, 640, 641, 642, 643, 644, 645, 646, 647, 648, 649, 650,\n",
              "       651, 652, 653, 654, 655, 656, 657, 658, 659, 660, 661, 662, 663,\n",
              "       664, 665, 666, 667, 668, 669, 670, 671, 672, 673, 674, 675, 676,\n",
              "       677, 678, 679, 680, 681, 682, 683, 684, 685, 686, 687, 688, 689,\n",
              "       690, 691, 692, 693, 694, 695, 696, 697, 698, 699, 700, 701, 702,\n",
              "       703, 704, 705, 706, 707, 708, 709, 710, 711, 712, 713, 714, 715,\n",
              "       716, 717, 718, 719, 720, 721, 722, 723, 724, 725, 726, 727, 728,\n",
              "       729, 730, 731, 732, 733, 734, 735, 736, 737, 738, 739, 740, 741,\n",
              "       742, 743, 744, 745, 746, 747, 748, 749, 750, 751, 752, 753, 754,\n",
              "       755, 756, 757, 758, 759, 760, 761, 762, 763, 764, 765, 766, 767,\n",
              "       768, 769, 770, 771, 772, 773, 774, 775, 776, 777, 778, 779, 780,\n",
              "       781, 782, 783, 784, 785, 786, 787, 788, 789, 790, 791, 792, 793,\n",
              "       794, 795, 796, 797, 798, 799, 800, 801, 802, 803, 804, 805, 806,\n",
              "       807, 808, 809, 810, 811, 812, 813, 814, 815, 816, 817, 818, 819,\n",
              "       820, 821, 822, 823, 824, 825, 826, 827, 828, 829, 830, 831, 832,\n",
              "       833, 834, 835, 836, 837, 838, 839, 840, 841, 842, 843, 844, 845,\n",
              "       846, 847, 848, 849, 850, 851, 852, 853, 854, 855, 856, 857, 858,\n",
              "       859, 860, 861, 862, 863, 864, 865, 866, 867, 868, 869, 870, 871,\n",
              "       872, 873, 874, 875, 876, 877, 878, 879, 880, 881, 882, 883, 884,\n",
              "       885, 886, 887, 888, 889, 890, 891, 892, 893, 894, 895, 896, 897,\n",
              "       898, 899, 900, 901, 902, 903, 904, 905, 906, 907, 908, 909, 910,\n",
              "       911, 912, 913, 914, 915, 916, 917, 918, 919, 920, 921, 922, 923,\n",
              "       924, 925, 926, 927, 928, 929, 930, 931, 932, 933, 934, 935, 936,\n",
              "       937, 938, 939, 940, 941, 942, 943, 944, 945, 946, 947, 948, 949,\n",
              "       950, 951, 952, 953, 954, 955, 956, 957, 958, 959, 960, 961, 962,\n",
              "       963, 964, 965, 966, 967, 968, 969, 970, 971, 972, 973, 974, 975,\n",
              "       976, 977, 978, 979, 980, 981, 982, 983, 984, 985, 986, 987, 988,\n",
              "       989, 990, 991, 992, 993, 994, 995, 996, 997, 998, 999])"
            ]
          },
          "metadata": {
            "tags": []
          },
          "execution_count": 48
        }
      ]
    },
    {
      "cell_type": "code",
      "metadata": {
        "id": "5BqbzyILLNUe",
        "colab_type": "code",
        "outputId": "935a5539-a550-4c47-caf2-1e8c1df3b199",
        "colab": {
          "base_uri": "https://localhost:8080/",
          "height": 162
        }
      },
      "source": [
        "x3.reshape(500,20)"
      ],
      "execution_count": 0,
      "outputs": [
        {
          "output_type": "error",
          "ename": "ValueError",
          "evalue": "ignored",
          "traceback": [
            "\u001b[0;31m\u001b[0m",
            "\u001b[0;31mValueError\u001b[0mTraceback (most recent call last)",
            "\u001b[0;32m<ipython-input-57-ac1ffb5f071c>\u001b[0m in \u001b[0;36m<module>\u001b[0;34m()\u001b[0m\n\u001b[0;32m----> 1\u001b[0;31m \u001b[0mx3\u001b[0m\u001b[0;34m.\u001b[0m\u001b[0mreshape\u001b[0m\u001b[0;34m(\u001b[0m\u001b[0;36m500\u001b[0m\u001b[0;34m,\u001b[0m\u001b[0;36m20\u001b[0m\u001b[0;34m)\u001b[0m\u001b[0;34m\u001b[0m\u001b[0m\n\u001b[0m",
            "\u001b[0;31mValueError\u001b[0m: cannot reshape array of size 10 into shape (500,20)"
          ]
        }
      ]
    },
    {
      "cell_type": "code",
      "metadata": {
        "id": "qkfYdgCaLVtf",
        "colab_type": "code",
        "outputId": "05dfa66e-699a-4a6f-d0e5-6f90666772d0",
        "colab": {
          "base_uri": "https://localhost:8080/",
          "height": 34
        }
      },
      "source": [
        "10000/20"
      ],
      "execution_count": 0,
      "outputs": [
        {
          "output_type": "execute_result",
          "data": {
            "text/plain": [
              "500"
            ]
          },
          "metadata": {
            "tags": []
          },
          "execution_count": 58
        }
      ]
    },
    {
      "cell_type": "code",
      "metadata": {
        "id": "ZrVjmLj8NUmU",
        "colab_type": "code",
        "colab": {
          "base_uri": "https://localhost:8080/",
          "height": 101
        },
        "outputId": "9444c938-332b-441d-b82b-d180185276ed"
      },
      "source": [
        "#panda\n",
        "!pip install pandas"
      ],
      "execution_count": 1,
      "outputs": [
        {
          "output_type": "stream",
          "text": [
            "Requirement already satisfied: pandas in /usr/local/lib/python3.6/dist-packages (0.25.3)\n",
            "Requirement already satisfied: pytz>=2017.2 in /usr/local/lib/python3.6/dist-packages (from pandas) (2018.9)\n",
            "Requirement already satisfied: numpy>=1.13.3 in /usr/local/lib/python3.6/dist-packages (from pandas) (1.17.5)\n",
            "Requirement already satisfied: python-dateutil>=2.6.1 in /usr/local/lib/python3.6/dist-packages (from pandas) (2.6.1)\n",
            "Requirement already satisfied: six>=1.5 in /usr/local/lib/python3.6/dist-packages (from python-dateutil>=2.6.1->pandas) (1.12.0)\n"
          ],
          "name": "stdout"
        }
      ]
    },
    {
      "cell_type": "code",
      "metadata": {
        "id": "6-rsWOSZhn_4",
        "colab_type": "code",
        "colab": {}
      },
      "source": [
        "import pandas as pd"
      ],
      "execution_count": 0,
      "outputs": []
    },
    {
      "cell_type": "code",
      "metadata": {
        "id": "Xg7pKxIyh_8f",
        "colab_type": "code",
        "colab": {}
      },
      "source": [
        "url=\"https://docs.google.com/spreadsheets/d/e/2PACX-1vRkBuDTd8RCydM72-uLD2nJh2fBEG7M1BpiY5P5qj2k1LhLISYTaBBgOGyMbpr2vVUGBUDy_iTfS0sZ/pub?output=csv\"\n",
        "data=pd.read_csv(url)"
      ],
      "execution_count": 0,
      "outputs": []
    },
    {
      "cell_type": "code",
      "metadata": {
        "id": "K609tVuciinB",
        "colab_type": "code",
        "colab": {
          "base_uri": "https://localhost:8080/",
          "height": 343
        },
        "outputId": "c1263906-d53b-480d-8fe6-6cca17e6be76"
      },
      "source": [
        "#print first five rows from csv file:\n",
        "data.head(10)"
      ],
      "execution_count": 11,
      "outputs": [
        {
          "output_type": "execute_result",
          "data": {
            "text/html": [
              "<div>\n",
              "<style scoped>\n",
              "    .dataframe tbody tr th:only-of-type {\n",
              "        vertical-align: middle;\n",
              "    }\n",
              "\n",
              "    .dataframe tbody tr th {\n",
              "        vertical-align: top;\n",
              "    }\n",
              "\n",
              "    .dataframe thead th {\n",
              "        text-align: right;\n",
              "    }\n",
              "</style>\n",
              "<table border=\"1\" class=\"dataframe\">\n",
              "  <thead>\n",
              "    <tr style=\"text-align: right;\">\n",
              "      <th></th>\n",
              "      <th>ID</th>\n",
              "      <th>Agency</th>\n",
              "      <th>Agency Type</th>\n",
              "      <th>Distribution Channel</th>\n",
              "      <th>Product Name</th>\n",
              "      <th>Duration</th>\n",
              "      <th>Destination</th>\n",
              "      <th>Net Sales</th>\n",
              "      <th>Commision (in value)</th>\n",
              "      <th>Age</th>\n",
              "      <th>Claim</th>\n",
              "    </tr>\n",
              "  </thead>\n",
              "  <tbody>\n",
              "    <tr>\n",
              "      <th>0</th>\n",
              "      <td>2010</td>\n",
              "      <td>EPX</td>\n",
              "      <td>Travel Agency</td>\n",
              "      <td>Online</td>\n",
              "      <td>Cancellation Plan</td>\n",
              "      <td>61</td>\n",
              "      <td>PHILIPPINES</td>\n",
              "      <td>12.000000</td>\n",
              "      <td>0.000000</td>\n",
              "      <td>41</td>\n",
              "      <td>0</td>\n",
              "    </tr>\n",
              "    <tr>\n",
              "      <th>1</th>\n",
              "      <td>4245</td>\n",
              "      <td>EPX</td>\n",
              "      <td>Travel Agency</td>\n",
              "      <td>Online</td>\n",
              "      <td>Cancellation Plan</td>\n",
              "      <td>4</td>\n",
              "      <td>MALAYSIA</td>\n",
              "      <td>17.000000</td>\n",
              "      <td>0.000000</td>\n",
              "      <td>35</td>\n",
              "      <td>0</td>\n",
              "    </tr>\n",
              "    <tr>\n",
              "      <th>2</th>\n",
              "      <td>9251</td>\n",
              "      <td>CWT</td>\n",
              "      <td>Travel Agency</td>\n",
              "      <td>Online</td>\n",
              "      <td>Rental Vehicle Excess Insurance</td>\n",
              "      <td>26</td>\n",
              "      <td>THAILAND</td>\n",
              "      <td>19.800000</td>\n",
              "      <td>11.880000</td>\n",
              "      <td>47</td>\n",
              "      <td>0</td>\n",
              "    </tr>\n",
              "    <tr>\n",
              "      <th>3</th>\n",
              "      <td>4754</td>\n",
              "      <td>EPX</td>\n",
              "      <td>Travel Agency</td>\n",
              "      <td>Online</td>\n",
              "      <td>2 way Comprehensive Plan</td>\n",
              "      <td>15</td>\n",
              "      <td>HONG KONG</td>\n",
              "      <td>27.000000</td>\n",
              "      <td>0.000000</td>\n",
              "      <td>48</td>\n",
              "      <td>0</td>\n",
              "    </tr>\n",
              "    <tr>\n",
              "      <th>4</th>\n",
              "      <td>8840</td>\n",
              "      <td>EPX</td>\n",
              "      <td>Travel Agency</td>\n",
              "      <td>Online</td>\n",
              "      <td>2 way Comprehensive Plan</td>\n",
              "      <td>15</td>\n",
              "      <td>MALAYSIA</td>\n",
              "      <td>37.000000</td>\n",
              "      <td>0.000000</td>\n",
              "      <td>36</td>\n",
              "      <td>0</td>\n",
              "    </tr>\n",
              "    <tr>\n",
              "      <th>5</th>\n",
              "      <td>5959</td>\n",
              "      <td>EPX</td>\n",
              "      <td>Travel Agency</td>\n",
              "      <td>Online</td>\n",
              "      <td>2 way Comprehensive Plan</td>\n",
              "      <td>4</td>\n",
              "      <td>THAILAND</td>\n",
              "      <td>25.000000</td>\n",
              "      <td>0.000000</td>\n",
              "      <td>38</td>\n",
              "      <td>0</td>\n",
              "    </tr>\n",
              "    <tr>\n",
              "      <th>6</th>\n",
              "      <td>6031</td>\n",
              "      <td>EPX</td>\n",
              "      <td>Travel Agency</td>\n",
              "      <td>Online</td>\n",
              "      <td>Cancellation Plan</td>\n",
              "      <td>215</td>\n",
              "      <td>UNITED KINGDOM</td>\n",
              "      <td>59.000000</td>\n",
              "      <td>0.000000</td>\n",
              "      <td>36</td>\n",
              "      <td>0</td>\n",
              "    </tr>\n",
              "    <tr>\n",
              "      <th>7</th>\n",
              "      <td>8394</td>\n",
              "      <td>JZI</td>\n",
              "      <td>Airlines</td>\n",
              "      <td>Online</td>\n",
              "      <td>Basic Plan</td>\n",
              "      <td>31</td>\n",
              "      <td>VIET NAM</td>\n",
              "      <td>22.000000</td>\n",
              "      <td>7.700000</td>\n",
              "      <td>43</td>\n",
              "      <td>0</td>\n",
              "    </tr>\n",
              "    <tr>\n",
              "      <th>8</th>\n",
              "      <td>3017</td>\n",
              "      <td>EPX</td>\n",
              "      <td>Travel Agency</td>\n",
              "      <td>Online</td>\n",
              "      <td>2 way Comprehensive Plan</td>\n",
              "      <td>13</td>\n",
              "      <td>CHINA</td>\n",
              "      <td>48.662699</td>\n",
              "      <td>0.000000</td>\n",
              "      <td>36</td>\n",
              "      <td>1</td>\n",
              "    </tr>\n",
              "    <tr>\n",
              "      <th>9</th>\n",
              "      <td>8054</td>\n",
              "      <td>C2B</td>\n",
              "      <td>Airlines</td>\n",
              "      <td>Online</td>\n",
              "      <td>Bronze Plan</td>\n",
              "      <td>10</td>\n",
              "      <td>SINGAPORE</td>\n",
              "      <td>23.258824</td>\n",
              "      <td>5.817294</td>\n",
              "      <td>28</td>\n",
              "      <td>1</td>\n",
              "    </tr>\n",
              "  </tbody>\n",
              "</table>\n",
              "</div>"
            ],
            "text/plain": [
              "     ID Agency    Agency Type  ... Commision (in value) Age  Claim\n",
              "0  2010    EPX  Travel Agency  ...             0.000000  41      0\n",
              "1  4245    EPX  Travel Agency  ...             0.000000  35      0\n",
              "2  9251    CWT  Travel Agency  ...            11.880000  47      0\n",
              "3  4754    EPX  Travel Agency  ...             0.000000  48      0\n",
              "4  8840    EPX  Travel Agency  ...             0.000000  36      0\n",
              "5  5959    EPX  Travel Agency  ...             0.000000  38      0\n",
              "6  6031    EPX  Travel Agency  ...             0.000000  36      0\n",
              "7  8394    JZI       Airlines  ...             7.700000  43      0\n",
              "8  3017    EPX  Travel Agency  ...             0.000000  36      1\n",
              "9  8054    C2B       Airlines  ...             5.817294  28      1\n",
              "\n",
              "[10 rows x 11 columns]"
            ]
          },
          "metadata": {
            "tags": []
          },
          "execution_count": 11
        }
      ]
    },
    {
      "cell_type": "code",
      "metadata": {
        "id": "d6oth4DzjDsq",
        "colab_type": "code",
        "colab": {
          "base_uri": "https://localhost:8080/",
          "height": 202
        },
        "outputId": "1925b5dc-39ac-4a03-c6e7-904387f77c91"
      },
      "source": [
        "#print all the columns from csv file:\n",
        "sorted(data.columns)"
      ],
      "execution_count": 6,
      "outputs": [
        {
          "output_type": "execute_result",
          "data": {
            "text/plain": [
              "['Age',\n",
              " 'Agency',\n",
              " 'Agency Type',\n",
              " 'Claim',\n",
              " 'Commision (in value)',\n",
              " 'Destination',\n",
              " 'Distribution Channel',\n",
              " 'Duration',\n",
              " 'ID',\n",
              " 'Net Sales',\n",
              " 'Product Name']"
            ]
          },
          "metadata": {
            "tags": []
          },
          "execution_count": 6
        }
      ]
    },
    {
      "cell_type": "code",
      "metadata": {
        "id": "WbuIBl_Djv8q",
        "colab_type": "code",
        "colab": {
          "base_uri": "https://localhost:8080/",
          "height": 218
        },
        "outputId": "05dd22e4-deb2-46ad-c971-30ac912ea70b"
      },
      "source": [
        "#print data types of each columns:\n",
        "data.dtypes"
      ],
      "execution_count": 7,
      "outputs": [
        {
          "output_type": "execute_result",
          "data": {
            "text/plain": [
              "ID                        int64\n",
              "Agency                   object\n",
              "Agency Type              object\n",
              "Distribution Channel     object\n",
              "Product Name             object\n",
              "Duration                  int64\n",
              "Destination              object\n",
              "Net Sales               float64\n",
              "Commision (in value)    float64\n",
              "Age                       int64\n",
              "Claim                     int64\n",
              "dtype: object"
            ]
          },
          "metadata": {
            "tags": []
          },
          "execution_count": 7
        }
      ]
    },
    {
      "cell_type": "code",
      "metadata": {
        "id": "a_6h53kIkbjB",
        "colab_type": "code",
        "colab": {}
      },
      "source": [
        "#add 1column to the dataframe called age2 which is the age x 2\n",
        "data['age2']=data['Age']*2"
      ],
      "execution_count": 0,
      "outputs": []
    },
    {
      "cell_type": "code",
      "metadata": {
        "id": "apCh2BUOmBFy",
        "colab_type": "code",
        "colab": {
          "base_uri": "https://localhost:8080/",
          "height": 195
        },
        "outputId": "bdd46f0f-e911-4dea-b1ec-d11590b6c261"
      },
      "source": [
        "data.head()"
      ],
      "execution_count": 12,
      "outputs": [
        {
          "output_type": "execute_result",
          "data": {
            "text/html": [
              "<div>\n",
              "<style scoped>\n",
              "    .dataframe tbody tr th:only-of-type {\n",
              "        vertical-align: middle;\n",
              "    }\n",
              "\n",
              "    .dataframe tbody tr th {\n",
              "        vertical-align: top;\n",
              "    }\n",
              "\n",
              "    .dataframe thead th {\n",
              "        text-align: right;\n",
              "    }\n",
              "</style>\n",
              "<table border=\"1\" class=\"dataframe\">\n",
              "  <thead>\n",
              "    <tr style=\"text-align: right;\">\n",
              "      <th></th>\n",
              "      <th>ID</th>\n",
              "      <th>Agency</th>\n",
              "      <th>Agency Type</th>\n",
              "      <th>Distribution Channel</th>\n",
              "      <th>Product Name</th>\n",
              "      <th>Duration</th>\n",
              "      <th>Destination</th>\n",
              "      <th>Net Sales</th>\n",
              "      <th>Commision (in value)</th>\n",
              "      <th>Age</th>\n",
              "      <th>Claim</th>\n",
              "    </tr>\n",
              "  </thead>\n",
              "  <tbody>\n",
              "    <tr>\n",
              "      <th>0</th>\n",
              "      <td>2010</td>\n",
              "      <td>EPX</td>\n",
              "      <td>Travel Agency</td>\n",
              "      <td>Online</td>\n",
              "      <td>Cancellation Plan</td>\n",
              "      <td>61</td>\n",
              "      <td>PHILIPPINES</td>\n",
              "      <td>12.0</td>\n",
              "      <td>0.00</td>\n",
              "      <td>41</td>\n",
              "      <td>0</td>\n",
              "    </tr>\n",
              "    <tr>\n",
              "      <th>1</th>\n",
              "      <td>4245</td>\n",
              "      <td>EPX</td>\n",
              "      <td>Travel Agency</td>\n",
              "      <td>Online</td>\n",
              "      <td>Cancellation Plan</td>\n",
              "      <td>4</td>\n",
              "      <td>MALAYSIA</td>\n",
              "      <td>17.0</td>\n",
              "      <td>0.00</td>\n",
              "      <td>35</td>\n",
              "      <td>0</td>\n",
              "    </tr>\n",
              "    <tr>\n",
              "      <th>2</th>\n",
              "      <td>9251</td>\n",
              "      <td>CWT</td>\n",
              "      <td>Travel Agency</td>\n",
              "      <td>Online</td>\n",
              "      <td>Rental Vehicle Excess Insurance</td>\n",
              "      <td>26</td>\n",
              "      <td>THAILAND</td>\n",
              "      <td>19.8</td>\n",
              "      <td>11.88</td>\n",
              "      <td>47</td>\n",
              "      <td>0</td>\n",
              "    </tr>\n",
              "    <tr>\n",
              "      <th>3</th>\n",
              "      <td>4754</td>\n",
              "      <td>EPX</td>\n",
              "      <td>Travel Agency</td>\n",
              "      <td>Online</td>\n",
              "      <td>2 way Comprehensive Plan</td>\n",
              "      <td>15</td>\n",
              "      <td>HONG KONG</td>\n",
              "      <td>27.0</td>\n",
              "      <td>0.00</td>\n",
              "      <td>48</td>\n",
              "      <td>0</td>\n",
              "    </tr>\n",
              "    <tr>\n",
              "      <th>4</th>\n",
              "      <td>8840</td>\n",
              "      <td>EPX</td>\n",
              "      <td>Travel Agency</td>\n",
              "      <td>Online</td>\n",
              "      <td>2 way Comprehensive Plan</td>\n",
              "      <td>15</td>\n",
              "      <td>MALAYSIA</td>\n",
              "      <td>37.0</td>\n",
              "      <td>0.00</td>\n",
              "      <td>36</td>\n",
              "      <td>0</td>\n",
              "    </tr>\n",
              "  </tbody>\n",
              "</table>\n",
              "</div>"
            ],
            "text/plain": [
              "     ID Agency    Agency Type  ... Commision (in value) Age  Claim\n",
              "0  2010    EPX  Travel Agency  ...                 0.00  41      0\n",
              "1  4245    EPX  Travel Agency  ...                 0.00  35      0\n",
              "2  9251    CWT  Travel Agency  ...                11.88  47      0\n",
              "3  4754    EPX  Travel Agency  ...                 0.00  48      0\n",
              "4  8840    EPX  Travel Agency  ...                 0.00  36      0\n",
              "\n",
              "[5 rows x 11 columns]"
            ]
          },
          "metadata": {
            "tags": []
          },
          "execution_count": 12
        }
      ]
    },
    {
      "cell_type": "code",
      "metadata": {
        "id": "Rh8A1i-HmD3t",
        "colab_type": "code",
        "colab": {}
      },
      "source": [
        "# make a new column age3 should be half of current age:\n",
        "\n",
        "data['age3']=data['Age']*0.5"
      ],
      "execution_count": 0,
      "outputs": []
    },
    {
      "cell_type": "code",
      "metadata": {
        "id": "WcpXkKMtmY5R",
        "colab_type": "code",
        "colab": {
          "base_uri": "https://localhost:8080/",
          "height": 195
        },
        "outputId": "2f0a019d-6572-4342-ad16-1722cb22992d"
      },
      "source": [
        "data.head()"
      ],
      "execution_count": 12,
      "outputs": [
        {
          "output_type": "execute_result",
          "data": {
            "text/html": [
              "<div>\n",
              "<style scoped>\n",
              "    .dataframe tbody tr th:only-of-type {\n",
              "        vertical-align: middle;\n",
              "    }\n",
              "\n",
              "    .dataframe tbody tr th {\n",
              "        vertical-align: top;\n",
              "    }\n",
              "\n",
              "    .dataframe thead th {\n",
              "        text-align: right;\n",
              "    }\n",
              "</style>\n",
              "<table border=\"1\" class=\"dataframe\">\n",
              "  <thead>\n",
              "    <tr style=\"text-align: right;\">\n",
              "      <th></th>\n",
              "      <th>ID</th>\n",
              "      <th>Agency</th>\n",
              "      <th>Agency Type</th>\n",
              "      <th>Distribution Channel</th>\n",
              "      <th>Product Name</th>\n",
              "      <th>Duration</th>\n",
              "      <th>Destination</th>\n",
              "      <th>Net Sales</th>\n",
              "      <th>Commision (in value)</th>\n",
              "      <th>Age</th>\n",
              "      <th>Claim</th>\n",
              "      <th>age2</th>\n",
              "      <th>age3</th>\n",
              "    </tr>\n",
              "  </thead>\n",
              "  <tbody>\n",
              "    <tr>\n",
              "      <th>0</th>\n",
              "      <td>2010</td>\n",
              "      <td>EPX</td>\n",
              "      <td>Travel Agency</td>\n",
              "      <td>Online</td>\n",
              "      <td>Cancellation Plan</td>\n",
              "      <td>61</td>\n",
              "      <td>PHILIPPINES</td>\n",
              "      <td>12.0</td>\n",
              "      <td>0.00</td>\n",
              "      <td>41</td>\n",
              "      <td>0</td>\n",
              "      <td>82</td>\n",
              "      <td>20.5</td>\n",
              "    </tr>\n",
              "    <tr>\n",
              "      <th>1</th>\n",
              "      <td>4245</td>\n",
              "      <td>EPX</td>\n",
              "      <td>Travel Agency</td>\n",
              "      <td>Online</td>\n",
              "      <td>Cancellation Plan</td>\n",
              "      <td>4</td>\n",
              "      <td>MALAYSIA</td>\n",
              "      <td>17.0</td>\n",
              "      <td>0.00</td>\n",
              "      <td>35</td>\n",
              "      <td>0</td>\n",
              "      <td>70</td>\n",
              "      <td>17.5</td>\n",
              "    </tr>\n",
              "    <tr>\n",
              "      <th>2</th>\n",
              "      <td>9251</td>\n",
              "      <td>CWT</td>\n",
              "      <td>Travel Agency</td>\n",
              "      <td>Online</td>\n",
              "      <td>Rental Vehicle Excess Insurance</td>\n",
              "      <td>26</td>\n",
              "      <td>THAILAND</td>\n",
              "      <td>19.8</td>\n",
              "      <td>11.88</td>\n",
              "      <td>47</td>\n",
              "      <td>0</td>\n",
              "      <td>94</td>\n",
              "      <td>23.5</td>\n",
              "    </tr>\n",
              "    <tr>\n",
              "      <th>3</th>\n",
              "      <td>4754</td>\n",
              "      <td>EPX</td>\n",
              "      <td>Travel Agency</td>\n",
              "      <td>Online</td>\n",
              "      <td>2 way Comprehensive Plan</td>\n",
              "      <td>15</td>\n",
              "      <td>HONG KONG</td>\n",
              "      <td>27.0</td>\n",
              "      <td>0.00</td>\n",
              "      <td>48</td>\n",
              "      <td>0</td>\n",
              "      <td>96</td>\n",
              "      <td>24.0</td>\n",
              "    </tr>\n",
              "    <tr>\n",
              "      <th>4</th>\n",
              "      <td>8840</td>\n",
              "      <td>EPX</td>\n",
              "      <td>Travel Agency</td>\n",
              "      <td>Online</td>\n",
              "      <td>2 way Comprehensive Plan</td>\n",
              "      <td>15</td>\n",
              "      <td>MALAYSIA</td>\n",
              "      <td>37.0</td>\n",
              "      <td>0.00</td>\n",
              "      <td>36</td>\n",
              "      <td>0</td>\n",
              "      <td>72</td>\n",
              "      <td>18.0</td>\n",
              "    </tr>\n",
              "  </tbody>\n",
              "</table>\n",
              "</div>"
            ],
            "text/plain": [
              "     ID Agency    Agency Type Distribution Channel  ... Age  Claim age2  age3\n",
              "0  2010    EPX  Travel Agency               Online  ...  41      0   82  20.5\n",
              "1  4245    EPX  Travel Agency               Online  ...  35      0   70  17.5\n",
              "2  9251    CWT  Travel Agency               Online  ...  47      0   94  23.5\n",
              "3  4754    EPX  Travel Agency               Online  ...  48      0   96  24.0\n",
              "4  8840    EPX  Travel Agency               Online  ...  36      0   72  18.0\n",
              "\n",
              "[5 rows x 13 columns]"
            ]
          },
          "metadata": {
            "tags": []
          },
          "execution_count": 12
        }
      ]
    },
    {
      "cell_type": "code",
      "metadata": {
        "id": "_lJx2p_Rmwqd",
        "colab_type": "code",
        "colab": {
          "base_uri": "https://localhost:8080/",
          "height": 106
        },
        "outputId": "9b96af26-abe9-4a3f-ae27-60c4f5024e9c"
      },
      "source": [
        "#print first five rows of any 2 columns:\n",
        "\n",
        "data[['ID','Agency']].head(2)"
      ],
      "execution_count": 14,
      "outputs": [
        {
          "output_type": "execute_result",
          "data": {
            "text/html": [
              "<div>\n",
              "<style scoped>\n",
              "    .dataframe tbody tr th:only-of-type {\n",
              "        vertical-align: middle;\n",
              "    }\n",
              "\n",
              "    .dataframe tbody tr th {\n",
              "        vertical-align: top;\n",
              "    }\n",
              "\n",
              "    .dataframe thead th {\n",
              "        text-align: right;\n",
              "    }\n",
              "</style>\n",
              "<table border=\"1\" class=\"dataframe\">\n",
              "  <thead>\n",
              "    <tr style=\"text-align: right;\">\n",
              "      <th></th>\n",
              "      <th>ID</th>\n",
              "      <th>Agency</th>\n",
              "    </tr>\n",
              "  </thead>\n",
              "  <tbody>\n",
              "    <tr>\n",
              "      <th>0</th>\n",
              "      <td>2010</td>\n",
              "      <td>EPX</td>\n",
              "    </tr>\n",
              "    <tr>\n",
              "      <th>1</th>\n",
              "      <td>4245</td>\n",
              "      <td>EPX</td>\n",
              "    </tr>\n",
              "  </tbody>\n",
              "</table>\n",
              "</div>"
            ],
            "text/plain": [
              "     ID Agency\n",
              "0  2010    EPX\n",
              "1  4245    EPX"
            ]
          },
          "metadata": {
            "tags": []
          },
          "execution_count": 14
        }
      ]
    },
    {
      "cell_type": "code",
      "metadata": {
        "id": "rgOESjADmbBq",
        "colab_type": "code",
        "colab": {
          "base_uri": "https://localhost:8080/",
          "height": 491
        },
        "outputId": "1a8a94e8-bbdf-42e8-dacb-da83ee6d3b5e"
      },
      "source": [
        "#select any 3 columns and print first 15 rows:\n",
        "data[['Duration','Destination','Net Sales']].head(15)"
      ],
      "execution_count": 15,
      "outputs": [
        {
          "output_type": "execute_result",
          "data": {
            "text/html": [
              "<div>\n",
              "<style scoped>\n",
              "    .dataframe tbody tr th:only-of-type {\n",
              "        vertical-align: middle;\n",
              "    }\n",
              "\n",
              "    .dataframe tbody tr th {\n",
              "        vertical-align: top;\n",
              "    }\n",
              "\n",
              "    .dataframe thead th {\n",
              "        text-align: right;\n",
              "    }\n",
              "</style>\n",
              "<table border=\"1\" class=\"dataframe\">\n",
              "  <thead>\n",
              "    <tr style=\"text-align: right;\">\n",
              "      <th></th>\n",
              "      <th>Duration</th>\n",
              "      <th>Destination</th>\n",
              "      <th>Net Sales</th>\n",
              "    </tr>\n",
              "  </thead>\n",
              "  <tbody>\n",
              "    <tr>\n",
              "      <th>0</th>\n",
              "      <td>61</td>\n",
              "      <td>PHILIPPINES</td>\n",
              "      <td>12.000000</td>\n",
              "    </tr>\n",
              "    <tr>\n",
              "      <th>1</th>\n",
              "      <td>4</td>\n",
              "      <td>MALAYSIA</td>\n",
              "      <td>17.000000</td>\n",
              "    </tr>\n",
              "    <tr>\n",
              "      <th>2</th>\n",
              "      <td>26</td>\n",
              "      <td>THAILAND</td>\n",
              "      <td>19.800000</td>\n",
              "    </tr>\n",
              "    <tr>\n",
              "      <th>3</th>\n",
              "      <td>15</td>\n",
              "      <td>HONG KONG</td>\n",
              "      <td>27.000000</td>\n",
              "    </tr>\n",
              "    <tr>\n",
              "      <th>4</th>\n",
              "      <td>15</td>\n",
              "      <td>MALAYSIA</td>\n",
              "      <td>37.000000</td>\n",
              "    </tr>\n",
              "    <tr>\n",
              "      <th>5</th>\n",
              "      <td>4</td>\n",
              "      <td>THAILAND</td>\n",
              "      <td>25.000000</td>\n",
              "    </tr>\n",
              "    <tr>\n",
              "      <th>6</th>\n",
              "      <td>215</td>\n",
              "      <td>UNITED KINGDOM</td>\n",
              "      <td>59.000000</td>\n",
              "    </tr>\n",
              "    <tr>\n",
              "      <th>7</th>\n",
              "      <td>31</td>\n",
              "      <td>VIET NAM</td>\n",
              "      <td>22.000000</td>\n",
              "    </tr>\n",
              "    <tr>\n",
              "      <th>8</th>\n",
              "      <td>13</td>\n",
              "      <td>CHINA</td>\n",
              "      <td>48.662699</td>\n",
              "    </tr>\n",
              "    <tr>\n",
              "      <th>9</th>\n",
              "      <td>10</td>\n",
              "      <td>SINGAPORE</td>\n",
              "      <td>23.258824</td>\n",
              "    </tr>\n",
              "    <tr>\n",
              "      <th>10</th>\n",
              "      <td>83</td>\n",
              "      <td>CHINA</td>\n",
              "      <td>66.823793</td>\n",
              "    </tr>\n",
              "    <tr>\n",
              "      <th>11</th>\n",
              "      <td>22</td>\n",
              "      <td>SINGAPORE</td>\n",
              "      <td>82.550000</td>\n",
              "    </tr>\n",
              "    <tr>\n",
              "      <th>12</th>\n",
              "      <td>48</td>\n",
              "      <td>MALAYSIA</td>\n",
              "      <td>39.600000</td>\n",
              "    </tr>\n",
              "    <tr>\n",
              "      <th>13</th>\n",
              "      <td>24</td>\n",
              "      <td>SINGAPORE</td>\n",
              "      <td>27.000000</td>\n",
              "    </tr>\n",
              "    <tr>\n",
              "      <th>14</th>\n",
              "      <td>17</td>\n",
              "      <td>SINGAPORE</td>\n",
              "      <td>58.211644</td>\n",
              "    </tr>\n",
              "  </tbody>\n",
              "</table>\n",
              "</div>"
            ],
            "text/plain": [
              "    Duration     Destination  Net Sales\n",
              "0         61     PHILIPPINES  12.000000\n",
              "1          4        MALAYSIA  17.000000\n",
              "2         26        THAILAND  19.800000\n",
              "3         15       HONG KONG  27.000000\n",
              "4         15        MALAYSIA  37.000000\n",
              "5          4        THAILAND  25.000000\n",
              "6        215  UNITED KINGDOM  59.000000\n",
              "7         31        VIET NAM  22.000000\n",
              "8         13           CHINA  48.662699\n",
              "9         10       SINGAPORE  23.258824\n",
              "10        83           CHINA  66.823793\n",
              "11        22       SINGAPORE  82.550000\n",
              "12        48        MALAYSIA  39.600000\n",
              "13        24       SINGAPORE  27.000000\n",
              "14        17       SINGAPORE  58.211644"
            ]
          },
          "metadata": {
            "tags": []
          },
          "execution_count": 15
        }
      ]
    },
    {
      "cell_type": "code",
      "metadata": {
        "id": "zuaeISOMoY1l",
        "colab_type": "code",
        "colab": {
          "base_uri": "https://localhost:8080/",
          "height": 67
        },
        "outputId": "7a99887b-ed57-4711-a6da-249ccf65302c"
      },
      "source": [
        "#how many customes have bought insurance online vs offline:\n",
        "data['Distribution Channel'].value_counts()"
      ],
      "execution_count": 16,
      "outputs": [
        {
          "output_type": "execute_result",
          "data": {
            "text/plain": [
              "Online     51419\n",
              "Offline      891\n",
              "Name: Distribution Channel, dtype: int64"
            ]
          },
          "metadata": {
            "tags": []
          },
          "execution_count": 16
        }
      ]
    },
    {
      "cell_type": "code",
      "metadata": {
        "id": "Wkg1EhXwp_ab",
        "colab_type": "code",
        "colab": {
          "base_uri": "https://localhost:8080/",
          "height": 218
        },
        "outputId": "8dcea8fb-ae53-44b0-eac6-57c9444441eb"
      },
      "source": [
        "#print the unique number of countries and their entries:\n",
        "\n",
        "data[\"Destination\"].value_counts()"
      ],
      "execution_count": 19,
      "outputs": [
        {
          "output_type": "execute_result",
          "data": {
            "text/plain": [
              "SINGAPORE       14242\n",
              "THAILAND         4562\n",
              "MALAYSIA         4359\n",
              "CHINA            3909\n",
              "AUSTRALIA        3011\n",
              "                ...  \n",
              "BHUTAN              2\n",
              "BELARUS             2\n",
              "BERMUDA             2\n",
              "TURKMENISTAN        1\n",
              "ZAMBIA              1\n",
              "Name: Destination, Length: 97, dtype: int64"
            ]
          },
          "metadata": {
            "tags": []
          },
          "execution_count": 19
        }
      ]
    },
    {
      "cell_type": "code",
      "metadata": {
        "id": "SKRBqmPfqmna",
        "colab_type": "code",
        "colab": {
          "base_uri": "https://localhost:8080/",
          "height": 431
        },
        "outputId": "5e0697a4-5c96-4cb3-95c3-21f11767222e"
      },
      "source": [
        "#print destination and claim (value_counts)(groupby)\n",
        "\n",
        "data.groupby(['Destination']).agg({'Claim': np.sum})\n",
        "\n",
        "\n",
        "\n"
      ],
      "execution_count": 26,
      "outputs": [
        {
          "output_type": "execute_result",
          "data": {
            "text/html": [
              "<div>\n",
              "<style scoped>\n",
              "    .dataframe tbody tr th:only-of-type {\n",
              "        vertical-align: middle;\n",
              "    }\n",
              "\n",
              "    .dataframe tbody tr th {\n",
              "        vertical-align: top;\n",
              "    }\n",
              "\n",
              "    .dataframe thead th {\n",
              "        text-align: right;\n",
              "    }\n",
              "</style>\n",
              "<table border=\"1\" class=\"dataframe\">\n",
              "  <thead>\n",
              "    <tr style=\"text-align: right;\">\n",
              "      <th></th>\n",
              "      <th>Claim</th>\n",
              "    </tr>\n",
              "    <tr>\n",
              "      <th>Destination</th>\n",
              "      <th></th>\n",
              "    </tr>\n",
              "  </thead>\n",
              "  <tbody>\n",
              "    <tr>\n",
              "      <th>ARGENTINA</th>\n",
              "      <td>1</td>\n",
              "    </tr>\n",
              "    <tr>\n",
              "      <th>AUSTRALIA</th>\n",
              "      <td>455</td>\n",
              "    </tr>\n",
              "    <tr>\n",
              "      <th>AUSTRIA</th>\n",
              "      <td>0</td>\n",
              "    </tr>\n",
              "    <tr>\n",
              "      <th>AZERBAIJAN</th>\n",
              "      <td>0</td>\n",
              "    </tr>\n",
              "    <tr>\n",
              "      <th>BAHRAIN</th>\n",
              "      <td>0</td>\n",
              "    </tr>\n",
              "    <tr>\n",
              "      <th>...</th>\n",
              "      <td>...</td>\n",
              "    </tr>\n",
              "    <tr>\n",
              "      <th>UZBEKISTAN</th>\n",
              "      <td>0</td>\n",
              "    </tr>\n",
              "    <tr>\n",
              "      <th>VANUATU</th>\n",
              "      <td>0</td>\n",
              "    </tr>\n",
              "    <tr>\n",
              "      <th>VENEZUELA</th>\n",
              "      <td>0</td>\n",
              "    </tr>\n",
              "    <tr>\n",
              "      <th>VIET NAM</th>\n",
              "      <td>88</td>\n",
              "    </tr>\n",
              "    <tr>\n",
              "      <th>ZAMBIA</th>\n",
              "      <td>0</td>\n",
              "    </tr>\n",
              "  </tbody>\n",
              "</table>\n",
              "<p>97 rows × 1 columns</p>\n",
              "</div>"
            ],
            "text/plain": [
              "             Claim\n",
              "Destination       \n",
              "ARGENTINA        1\n",
              "AUSTRALIA      455\n",
              "AUSTRIA          0\n",
              "AZERBAIJAN       0\n",
              "BAHRAIN          0\n",
              "...            ...\n",
              "UZBEKISTAN       0\n",
              "VANUATU          0\n",
              "VENEZUELA        0\n",
              "VIET NAM        88\n",
              "ZAMBIA           0\n",
              "\n",
              "[97 rows x 1 columns]"
            ]
          },
          "metadata": {
            "tags": []
          },
          "execution_count": 26
        }
      ]
    },
    {
      "cell_type": "markdown",
      "metadata": {
        "id": "zIbj9t7k4He6",
        "colab_type": "text"
      },
      "source": [
        "\n",
        "making graphs in python"
      ]
    },
    {
      "cell_type": "code",
      "metadata": {
        "id": "PAO31KPP590p",
        "colab_type": "code",
        "colab": {
          "base_uri": "https://localhost:8080/",
          "height": 218
        },
        "outputId": "b576a071-12ad-4a4e-bb62-44693c983d19"
      },
      "source": [
        "data.iloc[1]"
      ],
      "execution_count": 17,
      "outputs": [
        {
          "output_type": "execute_result",
          "data": {
            "text/plain": [
              "ID                                   4245\n",
              "Agency                                EPX\n",
              "Agency Type                 Travel Agency\n",
              "Distribution Channel               Online\n",
              "Product Name            Cancellation Plan\n",
              "Duration                                4\n",
              "Destination                      MALAYSIA\n",
              "Net Sales                              17\n",
              "Commision (in value)                    0\n",
              "Age                                    35\n",
              "Claim                                   0\n",
              "Name: 1, dtype: object"
            ]
          },
          "metadata": {
            "tags": []
          },
          "execution_count": 17
        }
      ]
    },
    {
      "cell_type": "code",
      "metadata": {
        "id": "AeBe7fU86Fhk",
        "colab_type": "code",
        "colab": {
          "base_uri": "https://localhost:8080/",
          "height": 265
        },
        "outputId": "2b8d9678-5e2c-430a-e450-c43faf504de7"
      },
      "source": [
        "data['Destination'].value_counts().head(10).plot(kind='pie')"
      ],
      "execution_count": 16,
      "outputs": [
        {
          "output_type": "execute_result",
          "data": {
            "text/plain": [
              "<matplotlib.axes._subplots.AxesSubplot at 0x7fb92619a588>"
            ]
          },
          "metadata": {
            "tags": []
          },
          "execution_count": 16
        },
        {
          "output_type": "display_data",
          "data": {
            "image/png": "[encoded data removed]",
            "text/plain": [
              "<Figure size 432x288 with 1 Axes>"
            ]
          },
          "metadata": {
            "tags": []
          }
        }
      ]
    },
    {
      "cell_type": "code",
      "metadata": {
        "id": "K_D-BT_U6pLj",
        "colab_type": "code",
        "colab": {
          "base_uri": "https://localhost:8080/",
          "height": 265
        },
        "outputId": "6d8a1c7d-6a0d-4b75-bc4d-9986318a4036"
      },
      "source": [
        "#pie diagram for claimed vs not-claimed:\n",
        "\n",
        "data['Claim'].value_counts().plot(kind='pie')"
      ],
      "execution_count": 19,
      "outputs": [
        {
          "output_type": "execute_result",
          "data": {
            "text/plain": [
              "<matplotlib.axes._subplots.AxesSubplot at 0x7fb9260f29b0>"
            ]
          },
          "metadata": {
            "tags": []
          },
          "execution_count": 19
        },
        {
          "output_type": "display_data",
          "data": {
            "image/png": "[encoded data removed]",
            "text/plain": [
              "<Figure size 432x288 with 1 Axes>"
            ]
          },
          "metadata": {
            "tags": []
          }
        }
      ]
    },
    {
      "cell_type": "code",
      "metadata": {
        "id": "9TINWMLV-RlB",
        "colab_type": "code",
        "colab": {
          "base_uri": "https://localhost:8080/",
          "height": 195
        },
        "outputId": "ac011ce5-0287-47eb-dec4-12ea1a957d33"
      },
      "source": [
        "#extract data for only airline column #subseting\n",
        "\n",
        "\n",
        "data[data['Agency Type'].isin(['Airlines'])].head()"
      ],
      "execution_count": 20,
      "outputs": [
        {
          "output_type": "execute_result",
          "data": {
            "text/html": [
              "<div>\n",
              "<style scoped>\n",
              "    .dataframe tbody tr th:only-of-type {\n",
              "        vertical-align: middle;\n",
              "    }\n",
              "\n",
              "    .dataframe tbody tr th {\n",
              "        vertical-align: top;\n",
              "    }\n",
              "\n",
              "    .dataframe thead th {\n",
              "        text-align: right;\n",
              "    }\n",
              "</style>\n",
              "<table border=\"1\" class=\"dataframe\">\n",
              "  <thead>\n",
              "    <tr style=\"text-align: right;\">\n",
              "      <th></th>\n",
              "      <th>ID</th>\n",
              "      <th>Agency</th>\n",
              "      <th>Agency Type</th>\n",
              "      <th>Distribution Channel</th>\n",
              "      <th>Product Name</th>\n",
              "      <th>Duration</th>\n",
              "      <th>Destination</th>\n",
              "      <th>Net Sales</th>\n",
              "      <th>Commision (in value)</th>\n",
              "      <th>Age</th>\n",
              "      <th>Claim</th>\n",
              "    </tr>\n",
              "  </thead>\n",
              "  <tbody>\n",
              "    <tr>\n",
              "      <th>7</th>\n",
              "      <td>8394</td>\n",
              "      <td>JZI</td>\n",
              "      <td>Airlines</td>\n",
              "      <td>Online</td>\n",
              "      <td>Basic Plan</td>\n",
              "      <td>31</td>\n",
              "      <td>VIET NAM</td>\n",
              "      <td>22.000000</td>\n",
              "      <td>7.700000</td>\n",
              "      <td>43</td>\n",
              "      <td>0</td>\n",
              "    </tr>\n",
              "    <tr>\n",
              "      <th>9</th>\n",
              "      <td>8054</td>\n",
              "      <td>C2B</td>\n",
              "      <td>Airlines</td>\n",
              "      <td>Online</td>\n",
              "      <td>Bronze Plan</td>\n",
              "      <td>10</td>\n",
              "      <td>SINGAPORE</td>\n",
              "      <td>23.258824</td>\n",
              "      <td>5.817294</td>\n",
              "      <td>28</td>\n",
              "      <td>1</td>\n",
              "    </tr>\n",
              "    <tr>\n",
              "      <th>11</th>\n",
              "      <td>8195</td>\n",
              "      <td>C2B</td>\n",
              "      <td>Airlines</td>\n",
              "      <td>Online</td>\n",
              "      <td>Silver Plan</td>\n",
              "      <td>22</td>\n",
              "      <td>SINGAPORE</td>\n",
              "      <td>82.550000</td>\n",
              "      <td>20.640000</td>\n",
              "      <td>31</td>\n",
              "      <td>1</td>\n",
              "    </tr>\n",
              "    <tr>\n",
              "      <th>14</th>\n",
              "      <td>2165</td>\n",
              "      <td>C2B</td>\n",
              "      <td>Airlines</td>\n",
              "      <td>Online</td>\n",
              "      <td>Bronze Plan</td>\n",
              "      <td>17</td>\n",
              "      <td>SINGAPORE</td>\n",
              "      <td>58.211644</td>\n",
              "      <td>14.552911</td>\n",
              "      <td>66</td>\n",
              "      <td>1</td>\n",
              "    </tr>\n",
              "    <tr>\n",
              "      <th>19</th>\n",
              "      <td>5232</td>\n",
              "      <td>C2B</td>\n",
              "      <td>Airlines</td>\n",
              "      <td>Online</td>\n",
              "      <td>Bronze Plan</td>\n",
              "      <td>36</td>\n",
              "      <td>SINGAPORE</td>\n",
              "      <td>47.000000</td>\n",
              "      <td>11.750000</td>\n",
              "      <td>25</td>\n",
              "      <td>0</td>\n",
              "    </tr>\n",
              "  </tbody>\n",
              "</table>\n",
              "</div>"
            ],
            "text/plain": [
              "      ID Agency Agency Type  ... Commision (in value) Age  Claim\n",
              "7   8394    JZI    Airlines  ...             7.700000  43      0\n",
              "9   8054    C2B    Airlines  ...             5.817294  28      1\n",
              "11  8195    C2B    Airlines  ...            20.640000  31      1\n",
              "14  2165    C2B    Airlines  ...            14.552911  66      1\n",
              "19  5232    C2B    Airlines  ...            11.750000  25      0\n",
              "\n",
              "[5 rows x 11 columns]"
            ]
          },
          "metadata": {
            "tags": []
          },
          "execution_count": 20
        }
      ]
    },
    {
      "cell_type": "code",
      "metadata": {
        "id": "DXgAJeGzA7xQ",
        "colab_type": "code",
        "colab": {
          "base_uri": "https://localhost:8080/",
          "height": 195
        },
        "outputId": "f48baebb-e794-4a80-f62a-266a89bc57e0"
      },
      "source": [
        "data[data['Age']>40].head()"
      ],
      "execution_count": 21,
      "outputs": [
        {
          "output_type": "execute_result",
          "data": {
            "text/html": [
              "<div>\n",
              "<style scoped>\n",
              "    .dataframe tbody tr th:only-of-type {\n",
              "        vertical-align: middle;\n",
              "    }\n",
              "\n",
              "    .dataframe tbody tr th {\n",
              "        vertical-align: top;\n",
              "    }\n",
              "\n",
              "    .dataframe thead th {\n",
              "        text-align: right;\n",
              "    }\n",
              "</style>\n",
              "<table border=\"1\" class=\"dataframe\">\n",
              "  <thead>\n",
              "    <tr style=\"text-align: right;\">\n",
              "      <th></th>\n",
              "      <th>ID</th>\n",
              "      <th>Agency</th>\n",
              "      <th>Agency Type</th>\n",
              "      <th>Distribution Channel</th>\n",
              "      <th>Product Name</th>\n",
              "      <th>Duration</th>\n",
              "      <th>Destination</th>\n",
              "      <th>Net Sales</th>\n",
              "      <th>Commision (in value)</th>\n",
              "      <th>Age</th>\n",
              "      <th>Claim</th>\n",
              "    </tr>\n",
              "  </thead>\n",
              "  <tbody>\n",
              "    <tr>\n",
              "      <th>0</th>\n",
              "      <td>2010</td>\n",
              "      <td>EPX</td>\n",
              "      <td>Travel Agency</td>\n",
              "      <td>Online</td>\n",
              "      <td>Cancellation Plan</td>\n",
              "      <td>61</td>\n",
              "      <td>PHILIPPINES</td>\n",
              "      <td>12.000000</td>\n",
              "      <td>0.000000</td>\n",
              "      <td>41</td>\n",
              "      <td>0</td>\n",
              "    </tr>\n",
              "    <tr>\n",
              "      <th>2</th>\n",
              "      <td>9251</td>\n",
              "      <td>CWT</td>\n",
              "      <td>Travel Agency</td>\n",
              "      <td>Online</td>\n",
              "      <td>Rental Vehicle Excess Insurance</td>\n",
              "      <td>26</td>\n",
              "      <td>THAILAND</td>\n",
              "      <td>19.800000</td>\n",
              "      <td>11.880000</td>\n",
              "      <td>47</td>\n",
              "      <td>0</td>\n",
              "    </tr>\n",
              "    <tr>\n",
              "      <th>3</th>\n",
              "      <td>4754</td>\n",
              "      <td>EPX</td>\n",
              "      <td>Travel Agency</td>\n",
              "      <td>Online</td>\n",
              "      <td>2 way Comprehensive Plan</td>\n",
              "      <td>15</td>\n",
              "      <td>HONG KONG</td>\n",
              "      <td>27.000000</td>\n",
              "      <td>0.000000</td>\n",
              "      <td>48</td>\n",
              "      <td>0</td>\n",
              "    </tr>\n",
              "    <tr>\n",
              "      <th>7</th>\n",
              "      <td>8394</td>\n",
              "      <td>JZI</td>\n",
              "      <td>Airlines</td>\n",
              "      <td>Online</td>\n",
              "      <td>Basic Plan</td>\n",
              "      <td>31</td>\n",
              "      <td>VIET NAM</td>\n",
              "      <td>22.000000</td>\n",
              "      <td>7.700000</td>\n",
              "      <td>43</td>\n",
              "      <td>0</td>\n",
              "    </tr>\n",
              "    <tr>\n",
              "      <th>14</th>\n",
              "      <td>2165</td>\n",
              "      <td>C2B</td>\n",
              "      <td>Airlines</td>\n",
              "      <td>Online</td>\n",
              "      <td>Bronze Plan</td>\n",
              "      <td>17</td>\n",
              "      <td>SINGAPORE</td>\n",
              "      <td>58.211644</td>\n",
              "      <td>14.552911</td>\n",
              "      <td>66</td>\n",
              "      <td>1</td>\n",
              "    </tr>\n",
              "  </tbody>\n",
              "</table>\n",
              "</div>"
            ],
            "text/plain": [
              "      ID Agency    Agency Type  ... Commision (in value) Age  Claim\n",
              "0   2010    EPX  Travel Agency  ...             0.000000  41      0\n",
              "2   9251    CWT  Travel Agency  ...            11.880000  47      0\n",
              "3   4754    EPX  Travel Agency  ...             0.000000  48      0\n",
              "7   8394    JZI       Airlines  ...             7.700000  43      0\n",
              "14  2165    C2B       Airlines  ...            14.552911  66      1\n",
              "\n",
              "[5 rows x 11 columns]"
            ]
          },
          "metadata": {
            "tags": []
          },
          "execution_count": 21
        }
      ]
    },
    {
      "cell_type": "code",
      "metadata": {
        "id": "NheiVfAfBcmp",
        "colab_type": "code",
        "colab": {
          "base_uri": "https://localhost:8080/",
          "height": 84
        },
        "outputId": "c6ebc436-273e-49c9-b340-efd7d067fd39"
      },
      "source": [
        "data[data['Age'].isin([25,35,45])]['Age'].value_counts()"
      ],
      "execution_count": 28,
      "outputs": [
        {
          "output_type": "execute_result",
          "data": {
            "text/plain": [
              "35    1985\n",
              "25     735\n",
              "45     712\n",
              "Name: Age, dtype: int64"
            ]
          },
          "metadata": {
            "tags": []
          },
          "execution_count": 28
        }
      ]
    },
    {
      "cell_type": "code",
      "metadata": {
        "id": "G1U5BVbLCYQN",
        "colab_type": "code",
        "colab": {
          "base_uri": "https://localhost:8080/",
          "height": 265
        },
        "outputId": "f1437375-f93b-4e8d-f748-312b2264ea1f"
      },
      "source": [
        "data[data['Age'].isin([25,35,45])]['Age'].value_counts().plot(kind='pie',legend=True)"
      ],
      "execution_count": 31,
      "outputs": [
        {
          "output_type": "execute_result",
          "data": {
            "text/plain": [
              "<matplotlib.axes._subplots.AxesSubplot at 0x7fb925f07e80>"
            ]
          },
          "metadata": {
            "tags": []
          },
          "execution_count": 31
        },
        {
          "output_type": "display_data",
          "data": {
            "image/png": "[encoded data removed]",
            "text/plain": [
              "<Figure size 432x288 with 1 Axes>"
            ]
          },
          "metadata": {
            "tags": []
          }
        }
      ]
    },
    {
      "cell_type": "code",
      "metadata": {
        "id": "De5TJ7lqDDnc",
        "colab_type": "code",
        "colab": {}
      },
      "source": [
        ""
      ],
      "execution_count": 0,
      "outputs": []
    }
  ]
}